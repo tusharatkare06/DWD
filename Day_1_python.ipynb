{
  "nbformat": 4,
  "nbformat_minor": 0,
  "metadata": {
    "colab": {
      "provenance": []
    },
    "kernelspec": {
      "name": "python3",
      "display_name": "Python 3"
    },
    "language_info": {
      "name": "python"
    }
  },
  "cells": [
    {
      "cell_type": "markdown",
      "source": [
        ".ipynb is the python notebook file extension\n",
        "\n",
        "RUN = shift + enter\n",
        "\n",
        "IDE - Integrated Development Environment\n",
        "\n",
        "features of IDE\n",
        "\n",
        "CODE EDITOR\n",
        "\n",
        "DEBUGGER\n",
        "\n",
        "COMPILER\n",
        "\n",
        "INTERPRETER\n"
      ],
      "metadata": {
        "id": "ady6q5s4uzEh"
      }
    },
    {
      "cell_type": "markdown",
      "source": [
        "# WHAT IS PROGRAMMING LANGUAGE ?\n",
        "\n",
        "Programming enables computers to:\n",
        "\n",
        "Automate tasks\n",
        "\n",
        "Solve complex problems\n",
        "\n",
        "Process and analyze data\n",
        "\n",
        "Create software, websites, and applications\n",
        "\n",
        "Control hardware systems"
      ],
      "metadata": {
        "id": "C_B3pyvlvs5M"
      }
    },
    {
      "cell_type": "markdown",
      "source": [
        "Code: The set of written instructions in a programming language.\n",
        "\n",
        "Algorithm: A step-by-step process to solve a problem.\n",
        "\n",
        "Programming Language: A formal language used to write code (e.g., Python, Java, C++).\n",
        "\n",
        "Compiler - Translating code into a format the computer can execute.\n"
      ],
      "metadata": {
        "id": "WSn4ZFAewQHL"
      }
    },
    {
      "cell_type": "markdown",
      "source": [
        "#python\n",
        "\n",
        "- High level language\n",
        "\n",
        "- easy to use like reading english\n",
        "\n",
        "- open source -\n",
        "\n",
        "- platform independent -  cross platform\n",
        "\n",
        "-Interpreted language\n",
        "\n",
        "- library supported language"
      ],
      "metadata": {
        "id": "clXDIuqZwuL7"
      }
    },
    {
      "cell_type": "code",
      "source": [
        "#A module in Python is a file containing Python code"
      ],
      "metadata": {
        "id": "ujoBIu9AvGf3"
      },
      "execution_count": 1,
      "outputs": []
    },
    {
      "cell_type": "code",
      "execution_count": 2,
      "metadata": {
        "colab": {
          "base_uri": "https://localhost:8080/",
          "height": 35
        },
        "id": "tbCExR66uNhU",
        "outputId": "60ec45ed-5d78-434f-a2ab-8d5666c930a9"
      },
      "outputs": [
        {
          "output_type": "execute_result",
          "data": {
            "text/plain": [
              "' this is\\nmulti\\nline\\ncomment\\n'"
            ],
            "application/vnd.google.colaboratory.intrinsic+json": {
              "type": "string"
            }
          },
          "metadata": {},
          "execution_count": 2
        }
      ],
      "source": [
        "''' this is\n",
        "multi\n",
        "line\n",
        "comment\n",
        "'''"
      ]
    },
    {
      "cell_type": "code",
      "source": [
        "print(\"Hello, World\")"
      ],
      "metadata": {
        "colab": {
          "base_uri": "https://localhost:8080/"
        },
        "id": "jaM70TvOxiPh",
        "outputId": "1b458248-0ae4-43ec-b774-5230c1bc7b36"
      },
      "execution_count": 3,
      "outputs": [
        {
          "output_type": "stream",
          "name": "stdout",
          "text": [
            "Hello, World\n"
          ]
        }
      ]
    },
    {
      "cell_type": "code",
      "source": [],
      "metadata": {
        "id": "ajyhynQXxrVX"
      },
      "execution_count": null,
      "outputs": []
    }
  ]
}